{
 "cells": [
  {
   "cell_type": "markdown",
   "metadata": {},
   "source": [
    "# Python Web Scraping Tutorial using BeutifulSoup\n",
    "\n",
    "- Goal: web scrape the weather forecasts from the National Weather Service using Python"
   ]
  },
  {
   "cell_type": "markdown",
   "metadata": {},
   "source": [
    "# Part 1\n",
    "- First, let's download some sample content from http://dataquestio.github.io/web-scraping-pages/simple.html using the requests library"
   ]
  },
  {
   "cell_type": "code",
   "execution_count": 1,
   "metadata": {},
   "outputs": [
    {
     "data": {
      "text/plain": [
       "<Response [200]>"
      ]
     },
     "execution_count": 1,
     "metadata": {},
     "output_type": "execute_result"
    }
   ],
   "source": [
    "import requests\n",
    "\n",
    "# note: this returns a Response object, where the number indicates success/error\n",
    "# generally, 2__ => success, 4__ or 5__ => error\n",
    "page = requests.get(\"http://dataquestio.github.io/web-scraping-pages/simple.html\")\n",
    "page"
   ]
  },
  {
   "cell_type": "code",
   "execution_count": 2,
   "metadata": {},
   "outputs": [
    {
     "data": {
      "text/plain": [
       "b'<!DOCTYPE html>\\n<html>\\n    <head>\\n        <title>A simple example page</title>\\n    </head>\\n    <body>\\n        <p>Here is some simple content for this page.</p>\\n    </body>\\n</html>'"
      ]
     },
     "execution_count": 2,
     "metadata": {},
     "output_type": "execute_result"
    }
   ],
   "source": [
    "# print out HTML content of page using .content\n",
    "page.content"
   ]
  },
  {
   "cell_type": "markdown",
   "metadata": {},
   "source": [
    "# Part 2: Parse a page with BeautifulSoup"
   ]
  },
  {
   "cell_type": "code",
   "execution_count": 3,
   "metadata": {
    "collapsed": true
   },
   "outputs": [],
   "source": [
    "from bs4 import BeautifulSoup\n",
    "soup = BeautifulSoup(page.content, 'html.parser')"
   ]
  },
  {
   "cell_type": "code",
   "execution_count": 5,
   "metadata": {},
   "outputs": [
    {
     "name": "stdout",
     "output_type": "stream",
     "text": [
      "<!DOCTYPE html>\n",
      "<html>\n",
      " <head>\n",
      "  <title>\n",
      "   A simple example page\n",
      "  </title>\n",
      " </head>\n",
      " <body>\n",
      "  <p>\n",
      "   Here is some simple content for this page.\n",
      "  </p>\n",
      " </body>\n",
      "</html>\n"
     ]
    }
   ],
   "source": [
    "# print out HTML content in a nice format\n",
    "# note: this makes the tags nested\n",
    "print(soup.prettify())"
   ]
  },
  {
   "cell_type": "code",
   "execution_count": 8,
   "metadata": {},
   "outputs": [
    {
     "data": {
      "text/plain": [
       "['html', '\\n', <html>\n",
       " <head>\n",
       " <title>A simple example page</title>\n",
       " </head>\n",
       " <body>\n",
       " <p>Here is some simple content for this page.</p>\n",
       " </body>\n",
       " </html>]"
      ]
     },
     "execution_count": 8,
     "metadata": {},
     "output_type": "execute_result"
    }
   ],
   "source": [
    "# get all elements at the top level of the page\n",
    "list(soup.children)"
   ]
  },
  {
   "cell_type": "markdown",
   "metadata": {},
   "source": [
    "- above output: tells us there are two tags at the top level => \"<!DOCTYPE html>\" and html tag as well as a newline character\n",
    "- let's output the type for each element in the list"
   ]
  },
  {
   "cell_type": "code",
   "execution_count": 9,
   "metadata": {},
   "outputs": [
    {
     "data": {
      "text/plain": [
       "[bs4.element.Doctype, bs4.element.NavigableString, bs4.element.Tag]"
      ]
     },
     "execution_count": 9,
     "metadata": {},
     "output_type": "execute_result"
    }
   ],
   "source": [
    "[type(item) for item in list(soup.children)]"
   ]
  },
  {
   "cell_type": "markdown",
   "metadata": {},
   "source": [
    "- above output: all BeautifulSoup objects. \n",
    "1. Doctype => contains infor about the type of the document.\n",
    "2. NavigableString => represents the text found in the HTML document.\n",
    "3. (most common) Tag => contains other nested tags and allows us to navigate through an HTML document to extract other tags and text."
   ]
  },
  {
   "cell_type": "code",
   "execution_count": 14,
   "metadata": {},
   "outputs": [
    {
     "data": {
      "text/plain": [
       "<html>\n",
       "<head>\n",
       "<title>A simple example page</title>\n",
       "</head>\n",
       "<body>\n",
       "<p>Here is some simple content for this page.</p>\n",
       "</body>\n",
       "</html>"
      ]
     },
     "execution_count": 14,
     "metadata": {},
     "output_type": "execute_result"
    }
   ],
   "source": [
    "# take third item in list to get html tag and its children\n",
    "html = list(soup.children)[2]\n",
    "html"
   ]
  },
  {
   "cell_type": "code",
   "execution_count": 15,
   "metadata": {},
   "outputs": [
    {
     "data": {
      "text/plain": [
       "['\\n', <head>\n",
       " <title>A simple example page</title>\n",
       " </head>, '\\n', <body>\n",
       " <p>Here is some simple content for this page.</p>\n",
       " </body>, '\\n']"
      ]
     },
     "execution_count": 15,
     "metadata": {},
     "output_type": "execute_result"
    }
   ],
   "source": [
    "# call children method on html\n",
    "list(html.children)"
   ]
  },
  {
   "cell_type": "code",
   "execution_count": 19,
   "metadata": {},
   "outputs": [
    {
     "data": {
      "text/plain": [
       "<body>\n",
       "<p>Here is some simple content for this page.</p>\n",
       "</body>"
      ]
     },
     "execution_count": 19,
     "metadata": {},
     "output_type": "execute_result"
    }
   ],
   "source": [
    "# to extract text inside <p> tag, we dive into the body\n",
    "body = list(html.children)[3]\n",
    "body"
   ]
  },
  {
   "cell_type": "code",
   "execution_count": 20,
   "metadata": {},
   "outputs": [
    {
     "data": {
      "text/plain": [
       "['\\n', <p>Here is some simple content for this page.</p>, '\\n']"
      ]
     },
     "execution_count": 20,
     "metadata": {},
     "output_type": "execute_result"
    }
   ],
   "source": [
    "# get the p tag by finding the children of the body tag\n",
    "list(body.children)"
   ]
  },
  {
   "cell_type": "code",
   "execution_count": 26,
   "metadata": {},
   "outputs": [
    {
     "data": {
      "text/plain": [
       "'Here is some simple content for this page.'"
      ]
     },
     "execution_count": 26,
     "metadata": {},
     "output_type": "execute_result"
    }
   ],
   "source": [
    "# isolate p tag\n",
    "p = list(body.children)[1]\n",
    "\n",
    "# get text inside the tag\n",
    "p.get_text()"
   ]
  },
  {
   "cell_type": "markdown",
   "metadata": {},
   "source": [
    "# Find all instances of a tag at once\n",
    "\n",
    "- the above is nice if we want to naviagte a page, but let's find all the instances of a tag on a page"
   ]
  },
  {
   "cell_type": "code",
   "execution_count": 27,
   "metadata": {},
   "outputs": [
    {
     "data": {
      "text/plain": [
       "[<p>Here is some simple content for this page.</p>]"
      ]
     },
     "execution_count": 27,
     "metadata": {},
     "output_type": "execute_result"
    }
   ],
   "source": [
    "soup = BeautifulSoup(page.content, 'html.parser')\n",
    "\n",
    "# note: find_all returns a list\n",
    "soup.find_all('p')"
   ]
  },
  {
   "cell_type": "code",
   "execution_count": 28,
   "metadata": {},
   "outputs": [
    {
     "data": {
      "text/plain": [
       "'Here is some simple content for this page.'"
      ]
     },
     "execution_count": 28,
     "metadata": {},
     "output_type": "execute_result"
    }
   ],
   "source": [
    "# since a list is returned, we need to loop through/use list indexing, to extract text\n",
    "soup.find_all('p')[0].get_text()"
   ]
  },
  {
   "cell_type": "code",
   "execution_count": 29,
   "metadata": {},
   "outputs": [
    {
     "data": {
      "text/plain": [
       "<p>Here is some simple content for this page.</p>"
      ]
     },
     "execution_count": 29,
     "metadata": {},
     "output_type": "execute_result"
    }
   ],
   "source": [
    "# if you want to find the first instance of a tag, use find() method\n",
    "soup.find('p')"
   ]
  },
  {
   "cell_type": "markdown",
   "metadata": {},
   "source": [
    "# Searching for tags by class and id\n",
    "\n",
    "- Note: classes and id's are used by CSS to figure out which HTML elements to apply certain styles to.\n",
    "- We can also use them when scraping to specify elements we want to scrape\n",
    "- Use http://dataquestio.github.io/web-scraping-pages/ids_and_classes.html as an example"
   ]
  },
  {
   "cell_type": "code",
   "execution_count": 30,
   "metadata": {},
   "outputs": [
    {
     "data": {
      "text/plain": [
       "<html>\n",
       "<head>\n",
       "<title>A simple example page</title>\n",
       "</head>\n",
       "<body>\n",
       "<div>\n",
       "<p class=\"inner-text first-item\" id=\"first\">\n",
       "                First paragraph.\n",
       "            </p>\n",
       "<p class=\"inner-text\">\n",
       "                Second paragraph.\n",
       "            </p>\n",
       "</div>\n",
       "<p class=\"outer-text first-item\" id=\"second\">\n",
       "<b>\n",
       "                First outer paragraph.\n",
       "            </b>\n",
       "</p>\n",
       "<p class=\"outer-text\">\n",
       "<b>\n",
       "                Second outer paragraph.\n",
       "            </b>\n",
       "</p>\n",
       "</body>\n",
       "</html>"
      ]
     },
     "execution_count": 30,
     "metadata": {},
     "output_type": "execute_result"
    }
   ],
   "source": [
    "page = requests.get(\"http://dataquestio.github.io/web-scraping-pages/ids_and_classes.html\")\n",
    "soup = BeautifulSoup(page.content, 'html.parser')\n",
    "soup"
   ]
  },
  {
   "cell_type": "code",
   "execution_count": 31,
   "metadata": {},
   "outputs": [
    {
     "data": {
      "text/plain": [
       "[<p class=\"outer-text first-item\" id=\"second\">\n",
       " <b>\n",
       "                 First outer paragraph.\n",
       "             </b>\n",
       " </p>, <p class=\"outer-text\">\n",
       " <b>\n",
       "                 Second outer paragraph.\n",
       "             </b>\n",
       " </p>]"
      ]
     },
     "execution_count": 31,
     "metadata": {},
     "output_type": "execute_result"
    }
   ],
   "source": [
    "# Use find_all to search for items by class or id\n",
    "# e.g. find p tags that have the class \"outer-text\"\n",
    "soup.find_all('p', class_='outer-text')"
   ]
  },
  {
   "cell_type": "code",
   "execution_count": 32,
   "metadata": {},
   "outputs": [
    {
     "data": {
      "text/plain": [
       "[<p class=\"inner-text first-item\" id=\"first\">\n",
       "                 First paragraph.\n",
       "             </p>]"
      ]
     },
     "execution_count": 32,
     "metadata": {},
     "output_type": "execute_result"
    }
   ],
   "source": [
    "# e.g. 2 find tags with id = \"first\"\n",
    "soup.find_all(id = \"first\")"
   ]
  },
  {
   "cell_type": "markdown",
   "metadata": {},
   "source": [
    "# Using CSS Selectors\n",
    "\n",
    "- We can search for items using CSS selectors.\n",
    "- Note: CSS selectors are how the CSS language allows developers to specify HTML tags to style.\n",
    "- Examples:\n",
    "    1. p a = finds all a tags inside of a p tag.\n",
    "    2. body p a = finds all a tags inside of a p tag inside of a body tag.\n",
    "    3. html body = finds all body tags inside of an html tag.\n",
    "    4. p.outer-text = finds all p tags with a class of outer_text.\n",
    "    5. p#first = finds all p tags with an id of first.\n",
    "    6. body p.outer-text = finds all p tags with a class of outer-text inside of a body tag.\n",
    "- to find such tags, use the select() method"
   ]
  },
  {
   "cell_type": "code",
   "execution_count": 33,
   "metadata": {},
   "outputs": [
    {
     "data": {
      "text/plain": [
       "[<p class=\"inner-text first-item\" id=\"first\">\n",
       "                 First paragraph.\n",
       "             </p>, <p class=\"inner-text\">\n",
       "                 Second paragraph.\n",
       "             </p>]"
      ]
     },
     "execution_count": 33,
     "metadata": {},
     "output_type": "execute_result"
    }
   ],
   "source": [
    "soup.select(\"div p\")"
   ]
  },
  {
   "cell_type": "markdown",
   "metadata": {},
   "source": [
    "# Download Weather Data\n",
    "\n",
    "- Let's download weather data from Vernon Hills, IL.\n",
    "- url: https://forecast.weather.gov/MapClick.php?lon=-87.95749379978636&lat=42.22480081460347#.WphYqJPwaAw\n",
    "- Goal: extract data about the extended forecast\n",
    "- Explore/inspect the page using the Chrom Devtools (View->Developer->Developr Tools).\n",
    "- Find the tag that represents the data we want to extract (this ends up being that the extended forecasts are contained in a div with id = \"seven-day-forecast\" and the specific elements have class=\"forecast-tombstone\"). We now know wnough to download the page and start parsing it. So we do the following.\n",
    "- Steps:\n",
    "    1. Download web page containing the forecast.\n",
    "    2. Create a BeautifulSoup class to parse the page.\n",
    "    3. Find the div with id = seven-day-forecast, and assign to seven_day variable.\n",
    "    4. Inside seven_day, find each individual forecast tiem.\n",
    "    5. Extract and print the first forecast item."
   ]
  },
  {
   "cell_type": "code",
   "execution_count": 35,
   "metadata": {
    "collapsed": true
   },
   "outputs": [],
   "source": [
    "# Download web page\n",
    "page = requests.get(\"https://forecast.weather.gov/MapClick.php?lon=-87.95749379978636&lat=42.22480081460347#.WphZZpPwY3i\")"
   ]
  },
  {
   "cell_type": "code",
   "execution_count": 36,
   "metadata": {
    "collapsed": true
   },
   "outputs": [],
   "source": [
    "# Create soup object\n",
    "soup = BeautifulSoup(page.content, 'html.parser')"
   ]
  },
  {
   "cell_type": "code",
   "execution_count": 38,
   "metadata": {},
   "outputs": [],
   "source": [
    "# find id = \"seven-day-forecast\" \n",
    "seven_day = soup.find(id = \"seven-day-forecast\")"
   ]
  },
  {
   "cell_type": "code",
   "execution_count": 50,
   "metadata": {},
   "outputs": [],
   "source": [
    "# find elements with class = \"tombstone-container\"\n",
    "# these are our 7 day forecast items\n",
    "forecast_items = seven_day.find_all(class_= \"tombstone-container\")"
   ]
  },
  {
   "cell_type": "code",
   "execution_count": 51,
   "metadata": {},
   "outputs": [
    {
     "name": "stdout",
     "output_type": "stream",
     "text": [
      "<div class=\"tombstone-container\">\n",
      " <p class=\"period-name\">\n",
      "  This\n",
      "  <br/>\n",
      "  Afternoon\n",
      " </p>\n",
      " <p>\n",
      "  <img alt=\"This Afternoon: A 20 percent chance of rain after 5pm.  Mostly cloudy, with a high near 41. North wind 10 to 15 mph, with gusts as high as 25 mph. \" class=\"forecast-icon\" src=\"newimages/medium/ra20.png\" title=\"This Afternoon: A 20 percent chance of rain after 5pm.  Mostly cloudy, with a high near 41. North wind 10 to 15 mph, with gusts as high as 25 mph. \"/>\n",
      " </p>\n",
      " <p class=\"short-desc\">\n",
      "  Slight Chance\n",
      "  <br/>\n",
      "  Rain\n",
      " </p>\n",
      " <p class=\"temp temp-high\">\n",
      "  High: 41 °F\n",
      " </p>\n",
      "</div>\n"
     ]
    }
   ],
   "source": [
    "# get this afternoon's temperature (i.e. the first mentioned forecast)\n",
    "thisAfternoon = forecast_items[0]\n",
    "print(thisAfternoon.prettify())"
   ]
  },
  {
   "cell_type": "markdown",
   "metadata": {},
   "source": [
    "- Note in the above, we have 4 things we would like to extract:\n",
    "    1. Name of forecast item (\"this afternoon\")\n",
    "    2. Description of conditions\n",
    "    3. Short description of conditions\n",
    "    4. Temperature high"
   ]
  },
  {
   "cell_type": "code",
   "execution_count": 52,
   "metadata": {},
   "outputs": [
    {
     "name": "stdout",
     "output_type": "stream",
     "text": [
      "ThisAfternoon\n",
      "Slight ChanceRain\n",
      "High: 41 °F\n"
     ]
    }
   ],
   "source": [
    "# First extract forecast item, short description, and temperature first\n",
    "# do this because theyre similar\n",
    "period = thisAfternoon.find(class_=\"period-name\").get_text()\n",
    "shortDescription = thisAfternoon.find(class_=\"short-desc\").get_text()\n",
    "temp = thisAfternoon.find(class_=\"temp\").get_text()\n",
    "\n",
    "print(period)\n",
    "print(shortDescription)\n",
    "print(temp)"
   ]
  },
  {
   "cell_type": "code",
   "execution_count": 53,
   "metadata": {},
   "outputs": [
    {
     "name": "stdout",
     "output_type": "stream",
     "text": [
      "This Afternoon: A 20 percent chance of rain after 5pm.  Mostly cloudy, with a high near 41. North wind 10 to 15 mph, with gusts as high as 25 mph. \n"
     ]
    }
   ],
   "source": [
    "# extract title attribute from img tag\n",
    "img = thisAfternoon.find(\"img\")\n",
    "longDescription = img['title']\n",
    "print(longDescription)"
   ]
  },
  {
   "cell_type": "markdown",
   "metadata": {},
   "source": [
    "# Extract all the information from the page\n",
    "\n",
    "- Now do everything at once:\n",
    "    1. Select all items with the class = \"period-name\" inside an item with the class tombstone-container in seven_day variable (i.e. css selector)\n",
    "    2. Use a list comprehension to call the get_text method on each BeautifulSoup object"
   ]
  },
  {
   "cell_type": "code",
   "execution_count": 56,
   "metadata": {},
   "outputs": [
    {
     "data": {
      "text/plain": [
       "['ThisAfternoon',\n",
       " 'Tonight',\n",
       " 'Friday',\n",
       " 'FridayNight',\n",
       " 'Saturday',\n",
       " 'SaturdayNight',\n",
       " 'Sunday',\n",
       " 'SundayNight',\n",
       " 'Monday']"
      ]
     },
     "execution_count": 56,
     "metadata": {},
     "output_type": "execute_result"
    }
   ],
   "source": [
    "# get all periods\n",
    "period_tags = seven_day.select(\".tombstone-container .period-name\")\n",
    "periods = [pt.get_text() for pt in period_tags]\n",
    "periods"
   ]
  },
  {
   "cell_type": "code",
   "execution_count": 57,
   "metadata": {},
   "outputs": [
    {
     "data": {
      "text/plain": [
       "['Slight ChanceRain',\n",
       " 'Partly Cloudy',\n",
       " 'Sunny',\n",
       " 'Mostly Clear',\n",
       " 'Sunny',\n",
       " 'Mostly Clear',\n",
       " 'Sunny',\n",
       " 'Mostly Cloudy',\n",
       " 'Rain']"
      ]
     },
     "execution_count": 57,
     "metadata": {},
     "output_type": "execute_result"
    }
   ],
   "source": [
    "# get all short descriptions\n",
    "shortDescription_tags = seven_day.select(\".tombstone-container .short-desc\")\n",
    "shortDescriptions = [sd.get_text() for sd in shortDescription_tags]\n",
    "shortDescriptions"
   ]
  },
  {
   "cell_type": "code",
   "execution_count": 58,
   "metadata": {},
   "outputs": [
    {
     "data": {
      "text/plain": [
       "['High: 41 °F',\n",
       " 'Low: 27 °F',\n",
       " 'High: 43 °F',\n",
       " 'Low: 26 °F',\n",
       " 'High: 44 °F',\n",
       " 'Low: 29 °F',\n",
       " 'High: 49 °F',\n",
       " 'Low: 37 °F',\n",
       " 'High: 47 °F']"
      ]
     },
     "execution_count": 58,
     "metadata": {},
     "output_type": "execute_result"
    }
   ],
   "source": [
    "# get all temperatures\n",
    "temp_tags = seven_day.select(\".tombstone-container .temp\")\n",
    "temperatures = [t.get_text() for t in temp_tags]\n",
    "temperatures"
   ]
  },
  {
   "cell_type": "code",
   "execution_count": 64,
   "metadata": {},
   "outputs": [
    {
     "data": {
      "text/plain": [
       "['This Afternoon: A 20 percent chance of rain after 5pm.  Mostly cloudy, with a high near 41. North wind 10 to 15 mph, with gusts as high as 25 mph. ',\n",
       " 'Tonight: Partly cloudy, with a low around 27. North northwest wind around 10 mph. ',\n",
       " 'Friday: Sunny, with a high near 43. North northwest wind 5 to 10 mph becoming east northeast in the afternoon. ',\n",
       " 'Friday Night: Mostly clear, with a low around 26. East northeast wind around 5 mph. ',\n",
       " 'Saturday: Sunny, with a high near 44. East southeast wind 5 to 10 mph. ',\n",
       " 'Saturday Night: Mostly clear, with a low around 29.',\n",
       " 'Sunday: Sunny, with a high near 49.',\n",
       " 'Sunday Night: Mostly cloudy, with a low around 37.',\n",
       " 'Monday: Rain, mainly after noon.  Mostly cloudy, with a high near 47.']"
      ]
     },
     "execution_count": 64,
     "metadata": {},
     "output_type": "execute_result"
    }
   ],
   "source": [
    "# get all long descriptions\n",
    "longDescription_tags = seven_day.select(\".tombstone-container img\")\n",
    "longDescriptions = [ld[\"title\"] for ld in longDescription_tags]\n",
    "longDescriptions"
   ]
  },
  {
   "cell_type": "markdown",
   "metadata": {},
   "source": [
    "# Combine data into a pandas df\n",
    "\n",
    "- let's combine our data into a pandas df and analyze it.\n",
    "- note: a df is an object that can store tabular data."
   ]
  },
  {
   "cell_type": "code",
   "execution_count": 65,
   "metadata": {},
   "outputs": [
    {
     "data": {
      "text/html": [
       "<div>\n",
       "<style>\n",
       "    .dataframe thead tr:only-child th {\n",
       "        text-align: right;\n",
       "    }\n",
       "\n",
       "    .dataframe thead th {\n",
       "        text-align: left;\n",
       "    }\n",
       "\n",
       "    .dataframe tbody tr th {\n",
       "        vertical-align: top;\n",
       "    }\n",
       "</style>\n",
       "<table border=\"1\" class=\"dataframe\">\n",
       "  <thead>\n",
       "    <tr style=\"text-align: right;\">\n",
       "      <th></th>\n",
       "      <th>longDescription</th>\n",
       "      <th>period</th>\n",
       "      <th>shortDescription</th>\n",
       "      <th>temp</th>\n",
       "    </tr>\n",
       "  </thead>\n",
       "  <tbody>\n",
       "    <tr>\n",
       "      <th>0</th>\n",
       "      <td>This Afternoon: A 20 percent chance of rain af...</td>\n",
       "      <td>ThisAfternoon</td>\n",
       "      <td>Slight ChanceRain</td>\n",
       "      <td>High: 41 °F</td>\n",
       "    </tr>\n",
       "    <tr>\n",
       "      <th>1</th>\n",
       "      <td>Tonight: Partly cloudy, with a low around 27. ...</td>\n",
       "      <td>Tonight</td>\n",
       "      <td>Partly Cloudy</td>\n",
       "      <td>Low: 27 °F</td>\n",
       "    </tr>\n",
       "    <tr>\n",
       "      <th>2</th>\n",
       "      <td>Friday: Sunny, with a high near 43. North nort...</td>\n",
       "      <td>Friday</td>\n",
       "      <td>Sunny</td>\n",
       "      <td>High: 43 °F</td>\n",
       "    </tr>\n",
       "    <tr>\n",
       "      <th>3</th>\n",
       "      <td>Friday Night: Mostly clear, with a low around ...</td>\n",
       "      <td>FridayNight</td>\n",
       "      <td>Mostly Clear</td>\n",
       "      <td>Low: 26 °F</td>\n",
       "    </tr>\n",
       "    <tr>\n",
       "      <th>4</th>\n",
       "      <td>Saturday: Sunny, with a high near 44. East sou...</td>\n",
       "      <td>Saturday</td>\n",
       "      <td>Sunny</td>\n",
       "      <td>High: 44 °F</td>\n",
       "    </tr>\n",
       "    <tr>\n",
       "      <th>5</th>\n",
       "      <td>Saturday Night: Mostly clear, with a low aroun...</td>\n",
       "      <td>SaturdayNight</td>\n",
       "      <td>Mostly Clear</td>\n",
       "      <td>Low: 29 °F</td>\n",
       "    </tr>\n",
       "    <tr>\n",
       "      <th>6</th>\n",
       "      <td>Sunday: Sunny, with a high near 49.</td>\n",
       "      <td>Sunday</td>\n",
       "      <td>Sunny</td>\n",
       "      <td>High: 49 °F</td>\n",
       "    </tr>\n",
       "    <tr>\n",
       "      <th>7</th>\n",
       "      <td>Sunday Night: Mostly cloudy, with a low around...</td>\n",
       "      <td>SundayNight</td>\n",
       "      <td>Mostly Cloudy</td>\n",
       "      <td>Low: 37 °F</td>\n",
       "    </tr>\n",
       "    <tr>\n",
       "      <th>8</th>\n",
       "      <td>Monday: Rain, mainly after noon.  Mostly cloud...</td>\n",
       "      <td>Monday</td>\n",
       "      <td>Rain</td>\n",
       "      <td>High: 47 °F</td>\n",
       "    </tr>\n",
       "  </tbody>\n",
       "</table>\n",
       "</div>"
      ],
      "text/plain": [
       "                                     longDescription         period  \\\n",
       "0  This Afternoon: A 20 percent chance of rain af...  ThisAfternoon   \n",
       "1  Tonight: Partly cloudy, with a low around 27. ...        Tonight   \n",
       "2  Friday: Sunny, with a high near 43. North nort...         Friday   \n",
       "3  Friday Night: Mostly clear, with a low around ...    FridayNight   \n",
       "4  Saturday: Sunny, with a high near 44. East sou...       Saturday   \n",
       "5  Saturday Night: Mostly clear, with a low aroun...  SaturdayNight   \n",
       "6                Sunday: Sunny, with a high near 49.         Sunday   \n",
       "7  Sunday Night: Mostly cloudy, with a low around...    SundayNight   \n",
       "8  Monday: Rain, mainly after noon.  Mostly cloud...         Monday   \n",
       "\n",
       "    shortDescription         temp  \n",
       "0  Slight ChanceRain  High: 41 °F  \n",
       "1      Partly Cloudy   Low: 27 °F  \n",
       "2              Sunny  High: 43 °F  \n",
       "3       Mostly Clear   Low: 26 °F  \n",
       "4              Sunny  High: 44 °F  \n",
       "5       Mostly Clear   Low: 29 °F  \n",
       "6              Sunny  High: 49 °F  \n",
       "7      Mostly Cloudy   Low: 37 °F  \n",
       "8               Rain  High: 47 °F  "
      ]
     },
     "execution_count": 65,
     "metadata": {},
     "output_type": "execute_result"
    }
   ],
   "source": [
    "import pandas as pd\n",
    "\n",
    "weather = pd.DataFrame({\n",
    "    \"period\": periods,\n",
    "    \"shortDescription\": shortDescriptions,\n",
    "    \"temp\": temperatures,\n",
    "    \"longDescription\": longDescriptions\n",
    "})\n",
    "\n",
    "weather"
   ]
  },
  {
   "cell_type": "code",
   "execution_count": null,
   "metadata": {
    "collapsed": true
   },
   "outputs": [],
   "source": []
  },
  {
   "cell_type": "code",
   "execution_count": null,
   "metadata": {
    "collapsed": true
   },
   "outputs": [],
   "source": []
  },
  {
   "cell_type": "code",
   "execution_count": null,
   "metadata": {
    "collapsed": true
   },
   "outputs": [],
   "source": []
  },
  {
   "cell_type": "code",
   "execution_count": null,
   "metadata": {
    "collapsed": true
   },
   "outputs": [],
   "source": []
  },
  {
   "cell_type": "code",
   "execution_count": null,
   "metadata": {
    "collapsed": true
   },
   "outputs": [],
   "source": []
  },
  {
   "cell_type": "code",
   "execution_count": null,
   "metadata": {
    "collapsed": true
   },
   "outputs": [],
   "source": []
  },
  {
   "cell_type": "code",
   "execution_count": null,
   "metadata": {
    "collapsed": true
   },
   "outputs": [],
   "source": []
  },
  {
   "cell_type": "code",
   "execution_count": null,
   "metadata": {
    "collapsed": true
   },
   "outputs": [],
   "source": []
  }
 ],
 "metadata": {
  "kernelspec": {
   "display_name": "Python 3",
   "language": "python",
   "name": "python3"
  },
  "language_info": {
   "codemirror_mode": {
    "name": "ipython",
    "version": 3
   },
   "file_extension": ".py",
   "mimetype": "text/x-python",
   "name": "python",
   "nbconvert_exporter": "python",
   "pygments_lexer": "ipython3",
   "version": "3.6.3"
  }
 },
 "nbformat": 4,
 "nbformat_minor": 2
}
